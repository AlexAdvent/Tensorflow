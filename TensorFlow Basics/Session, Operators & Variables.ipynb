{
 "cells": [
  {
   "cell_type": "markdown",
   "metadata": {},
   "source": [
    "# Getting Start with Tensorflow Operator"
   ]
  },
  {
   "cell_type": "markdown",
   "metadata": {},
   "source": [
    "## Goal\n",
    "In this notebook, we're going to getting start with tensorflow Operators. What are tensorflow operators and we will run some of them.\n",
    "\n",
    "\n"
   ]
  },
  {
   "cell_type": "markdown",
   "metadata": {},
   "source": [
    "## Introduction to Operator\n",
    "Tensorflow prodives certain predefined operators that can be performed on tensors. Tensorflow operator helps us to perform basic operation on tensor easily.\n",
    "___\n",
    "There are sevral types of operations that can be done on tensorflow. Some of them are mentioned below:\n",
    "* Arithmetic operations : add, subtract, multiply,...\n",
    "* Matrix operations : matmul, matrix_inverse, ...\n",
    "* Control flow operations : tuple, group, ...\n",
    "* Logical operations : logical_and, logical_not, ...\n",
    "* Comparision operations: equal, less, not_equal, ...\n",
    "* Debugging operations : is_finite, is_inf,..\n",
    "\n",
    "___\n",
    "[Here](https://www.tensorflow.org/lite/guide/op_select_allowlist) is the list of all the operator in tensorflow. We will perform some of the operator on our tensor A1 and A2.\n",
    "we will start with \n",
    "\n"
   ]
  },
  {
   "cell_type": "markdown",
   "metadata": {},
   "source": [
    "## Tensor \n",
    "We will start by importing installed TensorFlow library into your workspace under the alias tf:\n",
    "\n",
    "Note:- You can also install TensorFlow with Conda if you’re working on Windows or it’s best to check [the official installation instructions](https://www.tensorflow.org/install)."
   ]
  },
  {
   "cell_type": "code",
   "execution_count": 42,
   "metadata": {
    "ExecuteTime": {
     "end_time": "2021-08-09T14:39:28.662038Z",
     "start_time": "2021-08-09T14:39:28.657075Z"
    }
   },
   "outputs": [],
   "source": [
    "import tensorflow as tf"
   ]
  },
  {
   "cell_type": "markdown",
   "metadata": {},
   "source": [
    "## Data for learning\n",
    "First we define two variables that are actually constants. Pass an array of four numbers to the constant() function so that we can perform  operator method on this."
   ]
  },
  {
   "cell_type": "code",
   "execution_count": 43,
   "metadata": {
    "ExecuteTime": {
     "end_time": "2021-08-09T14:39:29.211374Z",
     "start_time": "2021-08-09T14:39:29.198409Z"
    }
   },
   "outputs": [],
   "source": [
    "# Initialize two constants\n",
    "tensor_A1  = tf.constant([1,6,2,8])\n",
    "tensor_A2  = tf.constant([9,4,3,0])"
   ]
  },
  {
   "cell_type": "markdown",
   "metadata": {},
   "source": [
    "### Arithmetic Operations\n",
    "Tensorflow provide several operation to perform basic arithmetic operators to tensor.\n",
    "\n",
    "ex - tf.add, tf.subtract, tf.multiply, tf.divide and ..."
   ]
  },
  {
   "cell_type": "markdown",
   "metadata": {},
   "source": [
    "#### ADD\n",
    "return addition of two tensor."
   ]
  },
  {
   "cell_type": "code",
   "execution_count": 44,
   "metadata": {
    "ExecuteTime": {
     "end_time": "2021-08-09T14:39:29.305198Z",
     "start_time": "2021-08-09T14:39:29.292233Z"
    }
   },
   "outputs": [
    {
     "name": "stdout",
     "output_type": "stream",
     "text": [
      "tf.Tensor([10 10  5  8], shape=(4,), dtype=int32)\n"
     ]
    }
   ],
   "source": [
    "tensor_add = tf.add(tensor_A1, tensor_A2)\n",
    "print(tensor_add)  "
   ]
  },
  {
   "cell_type": "markdown",
   "metadata": {},
   "source": [
    "#### Multiply\n",
    "this operator return element wise multiplication of two tensor."
   ]
  },
  {
   "cell_type": "code",
   "execution_count": 45,
   "metadata": {
    "ExecuteTime": {
     "end_time": "2021-08-09T14:39:29.369027Z",
     "start_time": "2021-08-09T14:39:29.362074Z"
    }
   },
   "outputs": [
    {
     "name": "stdout",
     "output_type": "stream",
     "text": [
      "tf.Tensor([ 9 24  6  0], shape=(4,), dtype=int32)\n"
     ]
    }
   ],
   "source": [
    "tensor_multiply = tf.multiply(tensor_A1, tensor_A2)\n",
    "print(tensor_multiply)  "
   ]
  },
  {
   "cell_type": "markdown",
   "metadata": {},
   "source": [
    "### Matrix operations\n",
    "Tensorflow provide several operation to perform matrices operation to tensor.\n",
    "\n",
    "ex - tf.diag, tf.transpose, tf.matrix_inverse, tf.norm and ..."
   ]
  },
  {
   "cell_type": "markdown",
   "metadata": {},
   "source": [
    "#### Transpose\n",
    "this operator return transpose of a tensor."
   ]
  },
  {
   "cell_type": "code",
   "execution_count": 46,
   "metadata": {
    "ExecuteTime": {
     "end_time": "2021-08-09T14:39:29.477738Z",
     "start_time": "2021-08-09T14:39:29.468758Z"
    }
   },
   "outputs": [
    {
     "name": "stdout",
     "output_type": "stream",
     "text": [
      "tf.Tensor([1 6 2 8], shape=(4,), dtype=int32)\n"
     ]
    }
   ],
   "source": [
    "tensor_transpose = tf.transpose(tensor_A1)\n",
    "print(tensor_transpose)  "
   ]
  },
  {
   "cell_type": "markdown",
   "metadata": {},
   "source": [
    "### Control flow operations\n",
    "Tensorflow provide several operation that can be used to control the execution of operation and add conditional dependencies.\n",
    "\n",
    "ex - tf.identity, tf.tuple, tf.group, tf.cond and ..."
   ]
  },
  {
   "cell_type": "markdown",
   "metadata": {},
   "source": [
    "#### Identity\n",
    "Return a tensor with the same shape and contents as the input tensor or value."
   ]
  },
  {
   "cell_type": "code",
   "execution_count": 47,
   "metadata": {
    "ExecuteTime": {
     "end_time": "2021-08-09T14:39:29.573478Z",
     "start_time": "2021-08-09T14:39:29.561486Z"
    }
   },
   "outputs": [
    {
     "name": "stdout",
     "output_type": "stream",
     "text": [
      "tf.Tensor([1 6 2 8], shape=(4,), dtype=int32)\n"
     ]
    }
   ],
   "source": [
    "tensor_identity = tf.identity(tensor_A1)\n",
    "print(tensor_identity)  "
   ]
  },
  {
   "cell_type": "markdown",
   "metadata": {},
   "source": [
    "### Logical operations\n",
    "Tensorflow provide several operation that can be used to add logical operation on tensor.\n",
    "\n",
    "ex -  logical_and, logical_not, logical_or logical_xor..."
   ]
  },
  {
   "cell_type": "code",
   "execution_count": 48,
   "metadata": {
    "ExecuteTime": {
     "end_time": "2021-08-09T14:39:29.636311Z",
     "start_time": "2021-08-09T14:39:29.631299Z"
    }
   },
   "outputs": [],
   "source": [
    "# Initialize two constants\n",
    "x  = tf.constant([False,False,True,True])\n",
    "y  = tf.constant([False,True,True,False])"
   ]
  },
  {
   "cell_type": "markdown",
   "metadata": {},
   "source": [
    "#### LogicalOr\n",
    "Returns the truth value of x OR y element-wise."
   ]
  },
  {
   "cell_type": "code",
   "execution_count": 49,
   "metadata": {
    "ExecuteTime": {
     "end_time": "2021-08-09T14:39:29.715103Z",
     "start_time": "2021-08-09T14:39:29.700116Z"
    }
   },
   "outputs": [
    {
     "name": "stdout",
     "output_type": "stream",
     "text": [
      "tf.Tensor([False  True  True  True], shape=(4,), dtype=bool)\n"
     ]
    }
   ],
   "source": [
    "tensor_or = tf.math.logical_or(x,y)\n",
    "print(tensor_or)  "
   ]
  },
  {
   "cell_type": "markdown",
   "metadata": {},
   "source": [
    "### Comparision operations\n",
    "Tensorflow provide several operation that can be used to add comparison operation on tensor.\n",
    "\n",
    "ex -  tf.equal, tf.not_equal,tf.less,tf.grater,..."
   ]
  },
  {
   "cell_type": "markdown",
   "metadata": {},
   "source": [
    "#### Equal\n",
    "Returns the truth value of (x == y) element-wise."
   ]
  },
  {
   "cell_type": "code",
   "execution_count": 50,
   "metadata": {
    "ExecuteTime": {
     "end_time": "2021-08-09T14:39:29.825798Z",
     "start_time": "2021-08-09T14:39:29.809822Z"
    }
   },
   "outputs": [
    {
     "name": "stdout",
     "output_type": "stream",
     "text": [
      "tf.Tensor([False False False False], shape=(4,), dtype=bool)\n"
     ]
    }
   ],
   "source": [
    "tensor_equal = tf.equal(tensor_A1,tensor_A2)\n",
    "print(tensor_equal)  "
   ]
  },
  {
   "cell_type": "markdown",
   "metadata": {},
   "source": [
    "### Debugging operations\n",
    "Tensorflow provide several operation that can be used to validate values.\n",
    "\n",
    "ex -  tf.is_finite, tf.us_inf,tf.is_nana,..."
   ]
  },
  {
   "cell_type": "markdown",
   "metadata": {},
   "source": [
    "#### isFinite\n",
    "Returns which elements of x are finite."
   ]
  },
  {
   "cell_type": "code",
   "execution_count": 51,
   "metadata": {
    "ExecuteTime": {
     "end_time": "2021-08-09T14:39:29.920993Z",
     "start_time": "2021-08-09T14:39:29.906005Z"
    }
   },
   "outputs": [
    {
     "name": "stdout",
     "output_type": "stream",
     "text": [
      "tf.Tensor([ True  True  True False False], shape=(5,), dtype=bool)\n"
     ]
    }
   ],
   "source": [
    "x = tf.constant([5.0, 4.8, 6.8, np.inf, np.nan])\n",
    "tensor_finite = tf.math.is_finite(x) \n",
    "print(tensor_finite)"
   ]
  },
  {
   "cell_type": "markdown",
   "metadata": {},
   "source": [
    "### Conclusion\n",
    "Tensorflow operation is very useful in especially when we are working with tensor and matrix. [Click Here](https://www.tensorflow.org/lite/guide/op_select_allowlist) to visit list of all the operator in tensorflow.\n"
   ]
  }
 ],
 "metadata": {
  "kernelspec": {
   "display_name": "Python 3",
   "language": "python",
   "name": "python3"
  },
  "language_info": {
   "codemirror_mode": {
    "name": "ipython",
    "version": 3
   },
   "file_extension": ".py",
   "mimetype": "text/x-python",
   "name": "python",
   "nbconvert_exporter": "python",
   "pygments_lexer": "ipython3",
   "version": "3.6.12"
  },
  "varInspector": {
   "cols": {
    "lenName": 16,
    "lenType": 16,
    "lenVar": 40
   },
   "kernels_config": {
    "python": {
     "delete_cmd_postfix": "",
     "delete_cmd_prefix": "del ",
     "library": "var_list.py",
     "varRefreshCmd": "print(var_dic_list())"
    },
    "r": {
     "delete_cmd_postfix": ") ",
     "delete_cmd_prefix": "rm(",
     "library": "var_list.r",
     "varRefreshCmd": "cat(var_dic_list()) "
    }
   },
   "position": {
    "height": "144px",
    "left": "1354px",
    "right": "20px",
    "top": "434px",
    "width": "350px"
   },
   "types_to_exclude": [
    "module",
    "function",
    "builtin_function_or_method",
    "instance",
    "_Feature"
   ],
   "window_display": true
  }
 },
 "nbformat": 4,
 "nbformat_minor": 4
}
