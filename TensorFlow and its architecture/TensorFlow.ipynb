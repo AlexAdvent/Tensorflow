{
 "cells": [
  {
   "cell_type": "markdown",
   "metadata": {},
   "source": [
    "# Convolutional Neural Networks With Tensorflow\n"
   ]
  },
  {
   "cell_type": "markdown",
   "metadata": {},
   "source": [
    "### Goal\n",
    "In this notebook, we're going to create Convolution Neural Networks with the help of tensorflow Library. we will build and train a CNN from scratch. In this notebook we are use tensorflow library. so lets begin the journey of CNN. \n",
    "\n",
    "### Learning Objectives\n",
    "1.   create CNN network from scratch.\n",
    "2.   understanding what is convolution.\n",
    "3.   Train your model and visualize the prediction.\n"
   ]
  },
  {
   "cell_type": "markdown",
   "metadata": {},
   "source": [
    "### Getting Started\n",
    "we will begin by importing some useful packages and the dataset you will use to build and train our model. "
   ]
  },
  {
   "cell_type": "code",
   "execution_count": 36,
   "metadata": {
    "ExecuteTime": {
     "end_time": "2021-07-24T13:25:58.073944Z",
     "start_time": "2021-07-24T13:25:58.061976Z"
    }
   },
   "outputs": [],
   "source": [
    "import seaborn as sns\n",
    "import tensorflow as tf\n",
    "import numpy as np\n",
    "import matplotlib.pyplot as plt\n",
    "%matplotlib inline\n",
    "import time"
   ]
  },
  {
   "cell_type": "markdown",
   "metadata": {},
   "source": [
    "#### MNIST Dataset\n",
    "We will train cnn network on dataset called [MNIST](http://yann.lecun.com/exdb/mnist/). It contains 60,000 images of handwritten digits, from 0 to 9, like these:"
   ]
  },
  {
   "cell_type": "markdown",
   "metadata": {},
   "source": [
    "![dataset image](https://miro.medium.com/max/700/1*LyRlX__08q40UJohhJG9Ow.png)"
   ]
  },
  {
   "cell_type": "code",
   "execution_count": 37,
   "metadata": {
    "ExecuteTime": {
     "end_time": "2021-07-24T13:25:58.895895Z",
     "start_time": "2021-07-24T13:25:58.653305Z"
    }
   },
   "outputs": [],
   "source": [
    "# loading dataset\n",
    "(x_train, y_train), (x_test, y_test) = tf.keras.datasets.mnist.load_data()"
   ]
  },
  {
   "cell_type": "code",
   "execution_count": 38,
   "metadata": {
    "ExecuteTime": {
     "end_time": "2021-07-24T13:25:58.942051Z",
     "start_time": "2021-07-24T13:25:58.926933Z"
    }
   },
   "outputs": [],
   "source": [
    "batch_size = 128  # batch size for train\n",
    "no_classes = 10 # class 0-9\n",
    "epochs = 3\n",
    "image_height, image_width = 28, 28"
   ]
  },
  {
   "cell_type": "markdown",
   "metadata": {},
   "source": [
    "#### Visualizing the dataset"
   ]
  },
  {
   "cell_type": "code",
   "execution_count": 39,
   "metadata": {
    "ExecuteTime": {
     "end_time": "2021-07-24T13:25:59.335942Z",
     "start_time": "2021-07-24T13:25:59.213241Z"
    }
   },
   "outputs": [
    {
     "name": "stderr",
     "output_type": "stream",
     "text": [
      "C:\\ProgramData\\Anaconda3\\envs\\tf\\lib\\site-packages\\seaborn\\_decorators.py:43: FutureWarning: Pass the following variable as a keyword arg: x. From version 0.12, the only valid positional argument will be `data`, and passing other arguments without an explicit keyword will result in an error or misinterpretation.\n",
      "  FutureWarning\n"
     ]
    },
    {
     "data": {
      "text/plain": [
       "<AxesSubplot:ylabel='count'>"
      ]
     },
     "execution_count": 39,
     "metadata": {},
     "output_type": "execute_result"
    },
    {
     "data": {
      "image/png": "[encoded data removed]",
      "text/plain": [
       "<Figure size 432x288 with 1 Axes>"
      ]
     },
     "metadata": {
      "needs_background": "light"
     },
     "output_type": "display_data"
    }
   ],
   "source": [
    "sns.countplot(y_train)"
   ]
  },
  {
   "cell_type": "code",
   "execution_count": 40,
   "metadata": {
    "ExecuteTime": {
     "end_time": "2021-07-24T13:25:59.526700Z",
     "start_time": "2021-07-24T13:25:59.420711Z"
    }
   },
   "outputs": [
    {
     "name": "stdout",
     "output_type": "stream",
     "text": [
      "y = 3\n",
      "size of imge :  (28, 28)\n"
     ]
    },
    {
     "data": {
      "image/png": "[encoded data removed]",
      "text/plain": [
       "<Figure size 432x288 with 1 Axes>"
      ]
     },
     "metadata": {
      "needs_background": "light"
     },
     "output_type": "display_data"
    }
   ],
   "source": [
    "# Example of a picture\n",
    "index = 7\n",
    "plt.imshow(x_train[index], cmap='gray')\n",
    "print (\"y = \" + str(np.squeeze(y_train[index])))\n",
    "print(\"size of imge : \" , x_train[index].shape)"
   ]
  },
  {
   "cell_type": "markdown",
   "metadata": {},
   "source": [
    "#### processing the dataset"
   ]
  },
  {
   "cell_type": "code",
   "execution_count": 41,
   "metadata": {
    "ExecuteTime": {
     "end_time": "2021-07-24T13:25:59.811387Z",
     "start_time": "2021-07-24T13:25:59.804431Z"
    }
   },
   "outputs": [],
   "source": [
    "# reshape the train train and test add one channel\n",
    "x_train = x_train.reshape(x_train.shape[0], image_height, image_width, 1)\n",
    "x_test = x_test.reshape(x_test.shape[0], image_height, image_width, 1)\n",
    "input_shape = (image_height, image_width, 1)"
   ]
  },
  {
   "cell_type": "code",
   "execution_count": 42,
   "metadata": {
    "ExecuteTime": {
     "end_time": "2021-07-24T13:26:00.174535Z",
     "start_time": "2021-07-24T13:26:00.027892Z"
    }
   },
   "outputs": [],
   "source": [
    "x_train = x_train.astype('float32')\n",
    "x_test = x_test.astype('float32')\n",
    "\n",
    "x_train /= 255  # normalization of data\n",
    "x_test /= 255\n",
    "\n",
    "y_train = tf.keras.utils.to_categorical(y_train, no_classes)\n",
    "y_test = tf.keras.utils.to_categorical(y_test, no_classes)"
   ]
  },
  {
   "cell_type": "code",
   "execution_count": 43,
   "metadata": {
    "ExecuteTime": {
     "end_time": "2021-07-24T13:26:00.254089Z",
     "start_time": "2021-07-24T13:26:00.236133Z"
    }
   },
   "outputs": [
    {
     "name": "stdout",
     "output_type": "stream",
     "text": [
      "number of training examples = 60000\n",
      "number of test examples = 10000\n",
      "X_train shape: (60000, 28, 28, 1)\n",
      "Y_train shape: (60000, 10)\n",
      "X_test shape: (10000, 28, 28, 1)\n",
      "Y_test shape: (10000, 10)\n"
     ]
    }
   ],
   "source": [
    "print (\"number of training examples = \" + str(x_train.shape[0]))\n",
    "print (\"number of test examples = \" + str(x_test.shape[0]))\n",
    "print (\"X_train shape: \" + str(x_train.shape))\n",
    "print (\"Y_train shape: \" + str(y_train.shape))\n",
    "print (\"X_test shape: \" + str(x_test.shape))\n",
    "print (\"Y_test shape: \" + str(y_test.shape))"
   ]
  },
  {
   "cell_type": "markdown",
   "metadata": {},
   "source": [
    "## Convolution Neural Network\n",
    "### Convolution layer\n",
    "You will usually hear about 2D Convolution while dealing with convolutional neural networks for images. It is a simple mathematical operation in which we slide a matrix or kernel of weights over 2D data and perform element-wise multiplication with the data that falls under the kernel. Finally, we sum up the multiplication result to produce one output of that operation.\n",
    "\n",
    "\n",
    "![dataset image](https://miro.medium.com/max/1320/1*LT0l-KXw5FXIkcGVl-KXlQ.gif)\n",
    "Input shape : (1, 9, 9) — Output Shape : (1, 7, 7) — K : (3, 3) — P : (0, 0) — S : (1, 1) — D : (1, 1) — G : 1\n",
    "\n",
    "### Max Pooling layer\n",
    "Max pooling is a pooling operation that selects the maximum element from the region of the feature map covered by the filter. Thus, the output after max-pooling layer would be a feature map containing the most prominent features of the previous feature map.\n",
    "![dataset image](https://media.geeksforgeeks.org/wp-content/uploads/20190721025744/Screenshot-2019-07-21-at-2.57.13-AM.png)\n"
   ]
  },
  {
   "cell_type": "markdown",
   "metadata": {},
   "source": [
    "### model summary\n",
    "![dataset image](https://www.googleapis.com/download/storage/v1/b/kaggle-forum-message-attachments/o/inbox%2F1723677%2F664483930a8dae8d6bdde8521d743b22%2Fimg2.png?generation=1602506057159013&alt=media)\n",
    "\n",
    "Conv2D layers are convolutions. Each filter (64 in the first  and 128 in the second convolution layers) transforms a part of the image (3*3 for the first two Conv2D layers. The transformation is applied on the whole image.\n",
    "\n",
    "MaxPool2D is a downsampling filter. It reduces a 2x2 matrix of the image to a single pixel with the maximum value of the 2x2 matrix. The filter aims to conserve the main features of the image while reducing the size.\n",
    "\n",
    "Dropout is a regularization layer. In our model, 33% of the nodes in the layer are randomly ignores, allowing the network to learn different features. This prevents overfitting.\n",
    "\n",
    "relu is the rectifier, and it is used to find nonlinearity in the data. It works by returning the input value if the input value >= 0. If the input is negative, it returns 0.\n",
    "\n",
    "Flatten converts the tensors into a 1D vector.\n",
    "\n",
    "The Dense layers are an artificial neural network (ANN). The last layer returns the probability that an image is in each class (one for each digit).\n",
    "\n",
    "As this model aims to categorize the images, we will use a categorical_crossentropy loss function."
   ]
  },
  {
   "cell_type": "code",
   "execution_count": 44,
   "metadata": {
    "ExecuteTime": {
     "end_time": "2021-07-24T13:26:00.991248Z",
     "start_time": "2021-07-24T13:26:00.973300Z"
    }
   },
   "outputs": [],
   "source": [
    "# defining model\n",
    "def simple_cnn(input_shape):\n",
    "    model = tf.keras.models.Sequential()\n",
    "    model.add(tf.keras.layers.Conv2D(\n",
    "        filters=64,\n",
    "        kernel_size=(3, 3),\n",
    "        activation='relu',\n",
    "        input_shape=input_shape\n",
    "    ))\n",
    "    model.add(tf.keras.layers.Conv2D(\n",
    "        filters=128,\n",
    "        kernel_size=(3, 3),\n",
    "        activation='relu'\n",
    "    ))\n",
    "    model.add(tf.keras.layers.MaxPooling2D(pool_size=(2, 2)))\n",
    "    model.add(tf.keras.layers.Dropout(rate=0.3))\n",
    "    model.add(tf.keras.layers.Flatten())\n",
    "    model.add(tf.keras.layers.Dense(units=1024, activation='relu'))\n",
    "    model.add(tf.keras.layers.Dropout(rate=0.3))\n",
    "    model.add(tf.keras.layers.Dense(units=no_classes, activation='softmax'))\n",
    "    model.compile(loss=tf.keras.losses.categorical_crossentropy,\n",
    "                  optimizer=tf.keras.optimizers.Adam(),\n",
    "                  metrics=['accuracy'])\n",
    "    return model\n"
   ]
  },
  {
   "cell_type": "code",
   "execution_count": 45,
   "metadata": {
    "ExecuteTime": {
     "end_time": "2021-07-24T13:26:01.761967Z",
     "start_time": "2021-07-24T13:26:01.629014Z"
    }
   },
   "outputs": [],
   "source": [
    "simple_cnn_model = simple_cnn(input_shape)"
   ]
  },
  {
   "cell_type": "markdown",
   "metadata": {},
   "source": [
    "### Training our model"
   ]
  },
  {
   "cell_type": "code",
   "execution_count": 46,
   "metadata": {
    "ExecuteTime": {
     "end_time": "2021-07-24T13:32:59.880593Z",
     "start_time": "2021-07-24T13:26:02.830163Z"
    }
   },
   "outputs": [
    {
     "name": "stdout",
     "output_type": "stream",
     "text": [
      "Train on 54000 samples, validate on 6000 samples\n",
      "Epoch 1/3\n",
      "54000/54000 [==============================] - 139s 3ms/sample - loss: 0.1300 - accuracy: 0.9594 - val_loss: 0.0415 - val_accuracy: 0.9872\n",
      "Epoch 2/3\n",
      "54000/54000 [==============================] - 139s 3ms/sample - loss: 0.0416 - accuracy: 0.9869 - val_loss: 0.0402 - val_accuracy: 0.9882\n",
      "Epoch 3/3\n",
      "54000/54000 [==============================] - 139s 3ms/sample - loss: 0.0259 - accuracy: 0.9916 - val_loss: 0.0354 - val_accuracy: 0.9902\n"
     ]
    }
   ],
   "source": [
    "history = simple_cnn_model.fit(x_train, y_train,\n",
    "                    batch_size=batch_size,\n",
    "                    epochs=epochs,\n",
    "                    validation_split=0.1)"
   ]
  },
  {
   "cell_type": "code",
   "execution_count": 52,
   "metadata": {
    "ExecuteTime": {
     "end_time": "2021-07-24T13:41:37.919713Z",
     "start_time": "2021-07-24T13:41:37.804993Z"
    },
    "scrolled": true
   },
   "outputs": [
    {
     "data": {
      "text/plain": [
       "[<matplotlib.lines.Line2D at 0x2287a5a2ef0>]"
      ]
     },
     "execution_count": 52,
     "metadata": {},
     "output_type": "execute_result"
    },
    {
     "data": {
      "image/png": "[encoded data removed]",
      "text/plain": [
       "<Figure size 432x288 with 1 Axes>"
      ]
     },
     "metadata": {
      "needs_background": "light"
     },
     "output_type": "display_data"
    }
   ],
   "source": [
    "plt.plot(history.history['loss'], color='b', label=\"Training Loss\")\n",
    "plt.plot(history.history['val_loss'], color='r', label=\"Validation Loss\")"
   ]
  },
  {
   "cell_type": "markdown",
   "metadata": {},
   "source": [
    "### Checking accuracy on training and test set\n",
    "It's look like our model train pretty well on dataset\n",
    "with Train data accuracy: 0.99548334\n",
    "and Test data accuracy: 0.9905\n",
    "\n",
    "---\n"
   ]
  },
  {
   "cell_type": "code",
   "execution_count": 53,
   "metadata": {
    "ExecuteTime": {
     "end_time": "2021-07-24T13:43:03.267967Z",
     "start_time": "2021-07-24T13:41:58.467214Z"
    }
   },
   "outputs": [
    {
     "name": "stdout",
     "output_type": "stream",
     "text": [
      "Train data loss: 0.014996277539779354\n",
      "Train data accuracy: 0.99548334\n"
     ]
    }
   ],
   "source": [
    "train_loss, train_accuracy = simple_cnn_model.evaluate(\n",
    "    x_train, y_train, verbose=0)\n",
    "print('Train data loss:', train_loss)\n",
    "print('Train data accuracy:', train_accuracy)"
   ]
  },
  {
   "cell_type": "code",
   "execution_count": 54,
   "metadata": {
    "ExecuteTime": {
     "end_time": "2021-07-24T13:43:14.490939Z",
     "start_time": "2021-07-24T13:43:03.317806Z"
    }
   },
   "outputs": [
    {
     "name": "stdout",
     "output_type": "stream",
     "text": [
      "Test data loss: 0.028630446860741357\n",
      "Test data accuracy: 0.9905\n"
     ]
    }
   ],
   "source": [
    "test_loss, test_accuracy = simple_cnn_model.evaluate(\n",
    "    x_test, y_test, verbose=0)\n",
    "print('Test data loss:', test_loss)\n",
    "print('Test data accuracy:', test_accuracy)"
   ]
  },
  {
   "cell_type": "markdown",
   "metadata": {},
   "source": [
    "### Prediction on test dataset\n",
    "run the code again to see prediction on random test images."
   ]
  },
  {
   "cell_type": "code",
   "execution_count": 72,
   "metadata": {
    "ExecuteTime": {
     "end_time": "2021-07-24T13:54:31.347774Z",
     "start_time": "2021-07-24T13:54:31.210652Z"
    }
   },
   "outputs": [
    {
     "name": "stdout",
     "output_type": "stream",
     "text": [
      "True Label 7\n",
      "Predicted by our model 7\n"
     ]
    },
    {
     "data": {
      "image/png": "[encoded data removed]",
      "text/plain": [
       "<Figure size 432x288 with 1 Axes>"
      ]
     },
     "metadata": {
      "needs_background": "light"
     },
     "output_type": "display_data"
    }
   ],
   "source": [
    "import random\n",
    "index = random.randint(0,x_test.shape[0])\n",
    "plt.imshow(x_train[index], cmap='gray')\n",
    "pridiction = simple_cnn_model.predict(x_train[index:index+1])\n",
    "Y_pred_classes = np.argmax(pridiction,axis = 1)\n",
    "Y_train_classes = np.argmax(y_train[index:index+1],axis = 1)\n",
    "print(f\"True Label\",Y_train_classes[0])\n",
    "print(\"Predicted by our model\",Y_pred_classes[0])"
   ]
  },
  {
   "cell_type": "markdown",
   "metadata": {},
   "source": [
    "### Visualizing prediction using confusion matrix\n",
    "As you can see most of time our model classified test image correctly.\n",
    "12 times our model classified 4 as 9\n",
    "and In 6 case it predicted 5 and 0 10 times wrong\n",
    "most of 4 almost look like 9 so our model get difficulty in predicting 4."
   ]
  },
  {
   "cell_type": "code",
   "execution_count": 61,
   "metadata": {
    "ExecuteTime": {
     "end_time": "2021-07-23T12:13:15.922604Z",
     "start_time": "2021-07-23T12:13:05.388137Z"
    }
   },
   "outputs": [],
   "source": [
    "# Predict the values from the testing dataset\n",
    "Y_pred = simple_cnn_model.predict(x_test)\n",
    "# Convert predictions classes to one hot vectors \n",
    "Y_pred_classes = np.argmax(Y_pred,axis = 1) \n",
    "# Convert testing observations to one hot vectors\n",
    "Y_true = np.argmax(y_test,axis = 1)\n",
    "# compute the confusion matrix\n",
    "confusion_mtx = tf.math.confusion_matrix(Y_true, Y_pred_classes) "
   ]
  },
  {
   "cell_type": "code",
   "execution_count": 72,
   "metadata": {
    "ExecuteTime": {
     "end_time": "2021-07-23T13:25:25.940215Z",
     "start_time": "2021-07-23T13:25:25.496289Z"
    },
    "scrolled": true
   },
   "outputs": [
    {
     "data": {
      "text/plain": [
       "<AxesSubplot:>"
      ]
     },
     "execution_count": 72,
     "metadata": {},
     "output_type": "execute_result"
    },
    {
     "data": {
      "image/png": "[encoded data removed]",
      "text/plain": [
       "<Figure size 720x576 with 2 Axes>"
      ]
     },
     "metadata": {
      "needs_background": "light"
     },
     "output_type": "display_data"
    }
   ],
   "source": [
    "plt.figure(figsize=(10, 8))\n",
    "sns.heatmap(confusion_mtx, annot=True, fmt='g')"
   ]
  },
  {
   "cell_type": "markdown",
   "metadata": {},
   "source": [
    "### Conclusion\n",
    "Neural Network with convolutional layer has a great impact on accuracy. our model got 99% accuracy with just two convolution layer. Convolutional neural networks (CNNs) have accomplished astonishing achievements across a variety of domains, including medical research, and an increasing interest has emerged in radiology."
   ]
  }
 ],
 "metadata": {
  "kernelspec": {
   "display_name": "Python 3",
   "language": "python",
   "name": "python3"
  },
  "language_info": {
   "codemirror_mode": {
    "name": "ipython",
    "version": 3
   },
   "file_extension": ".py",
   "mimetype": "text/x-python",
   "name": "python",
   "nbconvert_exporter": "python",
   "pygments_lexer": "ipython3",
   "version": "3.6.12"
  },
  "varInspector": {
   "cols": {
    "lenName": 16,
    "lenType": 16,
    "lenVar": 40
   },
   "kernels_config": {
    "python": {
     "delete_cmd_postfix": "",
     "delete_cmd_prefix": "del ",
     "library": "var_list.py",
     "varRefreshCmd": "print(var_dic_list())"
    },
    "r": {
     "delete_cmd_postfix": ") ",
     "delete_cmd_prefix": "rm(",
     "library": "var_list.r",
     "varRefreshCmd": "cat(var_dic_list()) "
    }
   },
   "position": {
    "height": "312.292px",
    "left": "1614.98px",
    "right": "20px",
    "top": "399.927px",
    "width": "374.757px"
   },
   "types_to_exclude": [
    "module",
    "function",
    "builtin_function_or_method",
    "instance",
    "_Feature"
   ],
   "window_display": true
  }
 },
 "nbformat": 4,
 "nbformat_minor": 4
}
